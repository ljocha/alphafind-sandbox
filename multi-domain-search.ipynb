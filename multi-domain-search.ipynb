{
 "cells": [
  {
   "cell_type": "code",
   "execution_count": null,
   "id": "0",
   "metadata": {},
   "outputs": [],
   "source": [
    "import json\n",
    "import requests\n",
    "import pandas as pd"
   ]
  },
  {
   "cell_type": "code",
   "execution_count": null,
   "id": "1",
   "metadata": {},
   "outputs": [],
   "source": [
    "# AlphaFind endpoint \n",
    "api='https://api.stage.alphafind-ted.dyn.cloud.e-infra.cz/search'\n",
    "\n",
    "# TED endpoint\n",
    "tedapi='https://ted.cathdb.info/api/v1' \n",
    "tedfiles=tedapi+'/files'"
   ]
  },
  {
   "cell_type": "code",
   "execution_count": null,
   "id": "2",
   "metadata": {},
   "outputs": [],
   "source": [
    "# limit the AlphaFind search\n",
    "domain_limit=20"
   ]
  },
  {
   "cell_type": "code",
   "execution_count": null,
   "id": "3",
   "metadata": {},
   "outputs": [],
   "source": [
    "# our sample query\n",
    "query='AF-A0A7L0KP91-F1-model_v4'"
   ]
  },
  {
   "cell_type": "code",
   "execution_count": null,
   "id": "4",
   "metadata": {},
   "outputs": [],
   "source": [
    "# look into TED database how many domains there are for qry\n",
    "def count_domains(qry):\n",
    "    up = qry.split('-')[1]\n",
    "    j = requests.get(f'{tedapi}/uniprot/summary/{up}').json()\n",
    "    return len(j['data'])"
   ]
  },
  {
   "cell_type": "code",
   "execution_count": null,
   "id": "5",
   "metadata": {},
   "outputs": [],
   "source": [
    "domains = count_domains(query)"
   ]
  },
  {
   "cell_type": "code",
   "execution_count": null,
   "id": "6",
   "metadata": {},
   "outputs": [],
   "source": [
    "# query AlphaFind\n",
    "# run repeatedly until all results are returned\n",
    "bag = [ \n",
    "    requests.get(f'{api}?query={query}_TED{domain:02d}&limit={domain_limit}').json()['results']\n",
    "    for domain in range(1,domains+1)\n",
    "]\n",
    "[ len(b) for b in bag ]"
   ]
  },
  {
   "cell_type": "code",
   "execution_count": null,
   "id": "7",
   "metadata": {},
   "outputs": [],
   "source": [
    "# arrange results into a dict with target structures as key, listing matching domain pairs for each\n",
    "tdom = {}\n",
    "for i,qd in enumerate(bag):\n",
    "    for td in qd:\n",
    "        s = td['object_id'].split('_')\n",
    "        target = '_'.join(s[:-1])\n",
    "        domain=s[-1]\n",
    "        if not target in tdom: tdom[target] = {}\n",
    "        tdom[target][domain] = { 'query_domain' : f'TED{i+1:02d}',\n",
    "                                 'tm_score' : td['tm_score'],\n",
    "                                 'rmsd' : td['rmsd']\n",
    "                               }\n",
    "    \n",
    "#tdom"
   ]
  },
  {
   "cell_type": "code",
   "execution_count": null,
   "id": "8",
   "metadata": {},
   "outputs": [],
   "source": [
    "# count total target domains for TM score calculation\n",
    "tdomains = { t : count_domains(t) for t in tdom.keys() }\n",
    "#tdomains"
   ]
  },
  {
   "cell_type": "code",
   "execution_count": null,
   "id": "9",
   "metadata": {},
   "outputs": [],
   "source": [
    "# target side TM score (reflecting common vs. target size)\n",
    "bag_tm_t = { t : 1./tdomains[t] * sum([\n",
    "                1./(1.+v['rmsd']**2)\n",
    "                for d,v in doms.items()\n",
    "            ])\n",
    "           for t,doms in tdom.items()\n",
    "         }\n",
    "#bag_tm"
   ]
  },
  {
   "cell_type": "code",
   "execution_count": null,
   "id": "10",
   "metadata": {},
   "outputs": [],
   "source": [
    "# query side TM score (commmon vs. query size)\n",
    "bag_tm_q = { t : 1./domains * sum([\n",
    "                1./(1.+v['rmsd']**2)\n",
    "                for d,v in doms.items()\n",
    "            ])\n",
    "           for t,doms in tdom.items()\n",
    "         }"
   ]
  },
  {
   "cell_type": "code",
   "execution_count": null,
   "id": "11",
   "metadata": {},
   "outputs": [],
   "source": [
    "# sort and pretty print results\n",
    "result = pd.DataFrame({\n",
    "    'target' : tdom.keys(),\n",
    "    'target tm score' : [ bag_tm_t[t] for t in tdom.keys()],\n",
    "    'query tm score' : [ bag_tm_q[t] for t in tdom.keys()],\n",
    "    'target domains #' : [ tdomains[t] for t in tdom.keys()],\n",
    "    'common domains #' : [ len(tdom[t]) for t in tdom.keys()],\n",
    "    'domain pairs' : [ ','.join([ f'{v['query_domain']}-{k}' for k,v in tdom[t].items()]) for t in tdom.keys()]\n",
    "}).set_index('target').sort_values('query tm score',ascending=False)\n",
    "result"
   ]
  },
  {
   "cell_type": "code",
   "execution_count": null,
   "id": "12",
   "metadata": {},
   "outputs": [],
   "source": []
  }
 ],
 "metadata": {
  "kernelspec": {
   "display_name": "Python 3 (ipykernel)",
   "language": "python",
   "name": "python3"
  },
  "language_info": {
   "codemirror_mode": {
    "name": "ipython",
    "version": 3
   },
   "file_extension": ".py",
   "mimetype": "text/x-python",
   "name": "python",
   "nbconvert_exporter": "python",
   "pygments_lexer": "ipython3",
   "version": "3.12.4"
  }
 },
 "nbformat": 4,
 "nbformat_minor": 5
}
