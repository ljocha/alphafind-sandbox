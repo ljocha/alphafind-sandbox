{
 "cells": [
  {
   "cell_type": "code",
   "execution_count": null,
   "id": "0",
   "metadata": {},
   "outputs": [],
   "source": [
    "import json\n",
    "import requests\n",
    "import pandas as pd\n",
    "import numpy as np\n",
    "import mdtraj as md\n",
    "import nglview as nv\n",
    "import os"
   ]
  },
  {
   "cell_type": "code",
   "execution_count": null,
   "id": "1",
   "metadata": {},
   "outputs": [],
   "source": [
    "# AlphaFind endpoint \n",
    "api='https://api.stage.alphafind-ted.dyn.cloud.e-infra.cz/search'\n",
    "\n",
    "# TED endpoint\n",
    "tedapi='https://ted.cathdb.info/api/v1' \n",
    "tedfiles=tedapi+'/files'\n",
    "\n",
    "# AlphaFold DB endpoint\n",
    "af='https://alphafold.ebi.ac.uk'\n",
    "affiles=af + '/files'"
   ]
  },
  {
   "cell_type": "code",
   "execution_count": null,
   "id": "2",
   "metadata": {},
   "outputs": [],
   "source": [
    "tmp=os.environ.get('TMPDIR','/tmp')\n",
    "tmp"
   ]
  },
  {
   "cell_type": "code",
   "execution_count": null,
   "id": "3",
   "metadata": {},
   "outputs": [],
   "source": [
    "# limit the AlphaFind search\n",
    "domain_limit=20"
   ]
  },
  {
   "cell_type": "code",
   "execution_count": null,
   "id": "4",
   "metadata": {},
   "outputs": [],
   "source": [
    "# our sample query\n",
    "query='AF-A0A7L0KP91-F1-model_v4'"
   ]
  },
  {
   "cell_type": "code",
   "execution_count": null,
   "id": "5",
   "metadata": {},
   "outputs": [],
   "source": [
    "# retrieve domains from TED database (just the residue intervals, for the time being)\n",
    "def get_domains(qry):\n",
    "    up = qry.split('-')[1]\n",
    "    j = requests.get(f'{tedapi}/uniprot/summary/{up}').json()\n",
    "    return {\n",
    "        d['ted_id'].split('_')[-1] : \n",
    "        [ c.split('-') for c in d['chopping'].split('_') ] \n",
    "        for d in j['data']\n",
    "    }"
   ]
  },
  {
   "cell_type": "code",
   "execution_count": null,
   "id": "6",
   "metadata": {},
   "outputs": [],
   "source": [
    "# domains for the query structure\n",
    "qchops = get_domains(query)"
   ]
  },
  {
   "cell_type": "code",
   "execution_count": null,
   "id": "7",
   "metadata": {},
   "outputs": [],
   "source": [
    "qdomains = len(qchops)\n",
    "qdomains"
   ]
  },
  {
   "cell_type": "code",
   "execution_count": null,
   "id": "8",
   "metadata": {},
   "outputs": [],
   "source": [
    "# query AlphaFind\n",
    "# The server works asynchronously, run this cell repeatedly until all results are returned, e.g. getting list of {qdomains} numbers close to {domain_limit}, not all or mostly zeros\n",
    "bag = [ \n",
    "    requests.get(f'{api}?query={query}_TED{domain:02d}&limit={domain_limit}&superposition=True').json()['results']\n",
    "    for domain in range(1,qdomains+1)\n",
    "]\n",
    "[ len(b) for b in bag ]"
   ]
  },
  {
   "cell_type": "code",
   "execution_count": null,
   "id": "9",
   "metadata": {},
   "outputs": [],
   "source": [
    "# Have you really run the previsous cell several times?\n",
    "# Getting less than {qdomains * domain_limit} is fine if you know what's going on; relax the condition then\n",
    "\n",
    "assert sum([ len(b) for b in bag ]) ==  qdomains * domain_limit"
   ]
  },
  {
   "cell_type": "code",
   "execution_count": null,
   "id": "10",
   "metadata": {},
   "outputs": [],
   "source": [
    "# arrange results into a dict with target structures as key, listing matching domain pairs for each\n",
    "tdom = {}\n",
    "for i,qd in enumerate(bag):\n",
    "    for td in qd:\n",
    "        s = td['object_id'].split('_')\n",
    "        target = '_'.join(s[:-1])\n",
    "        domain=s[-1]\n",
    "        if not target in tdom: tdom[target] = {}\n",
    "        tdom[target][domain] = { 'query_domain' : f'TED{i+1:02d}', \n",
    "                                 'tm_score' : td['tm_score'],\n",
    "                                 'rmsd' : td['rmsd'],\n",
    "                                 'translation_vector' : np.array(td['translation_vector']),\n",
    "                                 'rotation_matrix': np.array(td['rotation_matrix'])\n",
    "                               }\n",
    "    \n",
    "#tdom"
   ]
  },
  {
   "cell_type": "code",
   "execution_count": null,
   "id": "11",
   "metadata": {},
   "outputs": [],
   "source": [
    "# count total target domains for TM score calculation\n",
    "tchops = { t : get_domains(t) for t in tdom.keys() }\n",
    "tdomains = { k : len(v) for k,v in tchops.items() }\n",
    "#tdomains"
   ]
  },
  {
   "cell_type": "code",
   "execution_count": null,
   "id": "12",
   "metadata": {},
   "outputs": [],
   "source": [
    "# target side TM score (reflecting common vs. target size)\n",
    "bag_tm_t = { t : 1./tdomains[t] * sum([\n",
    "                1./(1.+v['rmsd']**2)\n",
    "                for d,v in doms.items()\n",
    "            ])\n",
    "           for t,doms in tdom.items()\n",
    "         }\n",
    "#bag_tm"
   ]
  },
  {
   "cell_type": "code",
   "execution_count": null,
   "id": "13",
   "metadata": {},
   "outputs": [],
   "source": [
    "# query side TM score (commmon vs. query size)\n",
    "bag_tm_q = { t : 1./qdomains * sum([\n",
    "                1./(1.+v['rmsd']**2)\n",
    "                for d,v in doms.items()\n",
    "            ])\n",
    "           for t,doms in tdom.items()\n",
    "         }"
   ]
  },
  {
   "cell_type": "code",
   "execution_count": null,
   "id": "14",
   "metadata": {},
   "outputs": [],
   "source": [
    "# sort and pretty print results\n",
    "result = pd.DataFrame({\n",
    "    'target' : tdom.keys(),\n",
    "    'target tm score' : [ bag_tm_t[t] for t in tdom.keys()],\n",
    "    'query tm score' : [ bag_tm_q[t] for t in tdom.keys()],\n",
    "    'target domains #' : [ tdomains[t] for t in tdom.keys()],\n",
    "    'common domains #' : [ len(tdom[t]) for t in tdom.keys()],\n",
    "    'domain pairs' : [ ','.join([ f'{v[\"query_domain\"]}-{k}' for k,v in tdom[t].items()]) for t in tdom.keys()]\n",
    "}).set_index('target').sort_values('query tm score',ascending=False)\n",
    "result"
   ]
  },
  {
   "cell_type": "code",
   "execution_count": null,
   "id": "15",
   "metadata": {},
   "outputs": [],
   "source": [
    "# From the table above, pick up the target structure and the domain you want to align the query to\n",
    "\n",
    "target = 'AF-A0A850XH80-F1-model_v4','TED06'\n",
    "tdom[target[0]][target[1]]"
   ]
  },
  {
   "cell_type": "code",
   "execution_count": null,
   "id": "16",
   "metadata": {},
   "outputs": [],
   "source": [
    "# retrieve whole query structure from AlphaFold DB\n",
    "qpdb = f'{tmp}/{query}.pdb'\n",
    "r = requests.get(f'{affiles}/{query}.pdb')\n",
    "with open(qpdb,'wb') as p:\n",
    "    p.write(r.content)"
   ]
  },
  {
   "cell_type": "code",
   "execution_count": null,
   "id": "17",
   "metadata": {},
   "outputs": [],
   "source": [
    "# the chosen target as well\n",
    "tpdb = f'{tmp}/{target[0]}.pdb'\n",
    "r = requests.get(f'{affiles}/{target[0]}.pdb')\n",
    "with open(tpdb,'wb') as p:\n",
    "    p.write(r.content)"
   ]
  },
  {
   "cell_type": "code",
   "execution_count": null,
   "id": "18",
   "metadata": {},
   "outputs": [],
   "source": [
    "# alignment rotation+translation as returned by the server\n",
    "rot = tdom[target[0]][target[1]]['rotation_matrix']\n",
    "trans = tdom[target[0]][target[1]]['translation_vector']\n",
    "rot,trans"
   ]
  },
  {
   "cell_type": "code",
   "execution_count": null,
   "id": "19",
   "metadata": {},
   "outputs": [],
   "source": [
    "# load the full query and target\n",
    "qt=md.load_pdb(qpdb)\n",
    "tt=md.load_pdb(tpdb)"
   ]
  },
  {
   "cell_type": "code",
   "execution_count": null,
   "id": "20",
   "metadata": {},
   "outputs": [],
   "source": [
    "# apply the alignment coordinate transformation\n",
    "# XXX: mdtraj works with nm, we have A\n",
    "tt.xyz = tt.xyz@rot - trans/10."
   ]
  },
  {
   "cell_type": "code",
   "execution_count": null,
   "id": "21",
   "metadata": {},
   "outputs": [],
   "source": [
    "# Enjoy\n",
    "\n",
    "v = nv.NGLWidget()\n",
    "qc = v.add_component(qt)\n",
    "tc = v.add_component(tt)\n",
    "qc.clear()\n",
    "qc.add_representation('ribbon',color='#ffe0e0')\n",
    "qd = tdom[target[0]][target[1]]['query_domain']\n",
    "c = qchops[qd]\n",
    "qc.add_representation('ribbon',color='#ff0000',selection=', '.join([ '-'.join(c1) for c1 in c ]))\n",
    "tc.clear()\n",
    "tc.add_representation('ribbon',color='#e0ffe0')\n",
    "#tc.add_representation('ribbon',color='#ffff00',selection='-'.join(tchops[target[0]][target[1]]))\n",
    "c=tchops[target[0]][target[1]]\n",
    "tc.add_representation('ribbon',color='#00ff00',selection=', '.join([ '-'.join(c1) for c1 in c ]))\n",
    "v"
   ]
  },
  {
   "cell_type": "code",
   "execution_count": null,
   "id": "22",
   "metadata": {},
   "outputs": [],
   "source": []
  }
 ],
 "metadata": {
  "kernelspec": {
   "display_name": "Python 3 (ipykernel)",
   "language": "python",
   "name": "python3"
  },
  "language_info": {
   "codemirror_mode": {
    "name": "ipython",
    "version": 3
   },
   "file_extension": ".py",
   "mimetype": "text/x-python",
   "name": "python",
   "nbconvert_exporter": "python",
   "pygments_lexer": "ipython3",
   "version": "3.13.2"
  }
 },
 "nbformat": 4,
 "nbformat_minor": 5
}
